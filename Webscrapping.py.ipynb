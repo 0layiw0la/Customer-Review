{
 "cells": [
  {
   "cell_type": "code",
   "execution_count": 3,
   "id": "408d1fb4",
   "metadata": {},
   "outputs": [],
   "source": [
    "import re\n",
    "from selenium import webdriver\n",
    "from selenium.webdriver.common.by import By\n",
    "from selenium.webdriver.common.keys import Keys\n",
    "from selenium.webdriver.support.ui import WebDriverWait\n",
    "from selenium.webdriver.support import expected_conditions as EC\n",
    "from bs4 import BeautifulSoup\n",
    "import time\n",
    "import pandas as pd\n",
    "\n",
    "def WebScraper(business, location, driver_path='./chromedriver-win64/chromedriver.exe'):\n",
    "    # Initialize WebDriver with headless option\n",
    "    options = webdriver.ChromeOptions()\n",
    "    options.add_argument(\"--headless\")  # Run in headless mode\n",
    "    options.add_argument(\"--no-sandbox\")  # Necessary for some environments\n",
    "    options.add_argument(\"--disable-dev-shm-usage\")  # Overcome limited resource problems\n",
    "    options.add_argument(\"--disable-gpu\")  # Disable GPU acceleration for headless mode\n",
    "\n",
    "    driver = webdriver.Chrome(driver_path, options=options)\n",
    "    driver.get(\"https://www.google.com\")\n",
    "    \n",
    "    # Search for the business name and location\n",
    "    search_box = driver.find_element(By.NAME, \"q\")\n",
    "    search_box.send_keys(f\"{business} {location} reviews\")\n",
    "    search_box.send_keys(Keys.RETURN)\n",
    "    time.sleep(3)\n",
    "    \n",
    "    # Wait for the review button to be clickable\n",
    "    try:\n",
    "        review_button = WebDriverWait(driver, 10).until(\n",
    "            EC.element_to_be_clickable((By.CSS_SELECTOR, \"a[data-async-trigger='reviewDialog']\"))\n",
    "        )\n",
    "        \n",
    "        # Get the number of reviews\n",
    "        review_text = review_button.text\n",
    "        review_counts_str = review_text.split(\" Google reviews\")[0].replace(\",\", \"\")\n",
    "        review_counts = int(review_counts_str)\n",
    "        \n",
    "        # Open the reviews modal\n",
    "        review_button.click()\n",
    "        time.sleep(1)  # Allow modal to open\n",
    "        \n",
    "        avg_rating = driver.find_element(By.CLASS_NAME, \"Aq14fc\").text.strip()\n",
    "        \n",
    "        # Wait for the \"Newest\" filter to be clickable and click it\n",
    "        newest_button = WebDriverWait(driver, 10).until(\n",
    "            EC.element_to_be_clickable((By.XPATH, \"//div[@aria-checked='false']//span[text()='Newest']\"))\n",
    "        )\n",
    "        driver.execute_script(\"arguments[0].scrollIntoView(true);\", newest_button)\n",
    "        driver.execute_script(\"arguments[0].click();\", newest_button)\n",
    "\n",
    "        review_limit = min(review_counts, 20)  # Limit to 100 reviews\n",
    "        review_count = 0\n",
    "\n",
    "        # Scroll and scrape reviews\n",
    "        reviews_list = []\n",
    "        date_list = []\n",
    "        \n",
    "        for _ in range(25):  # Adjust scroll limit as needed\n",
    "            time.sleep(3)\n",
    "            review_containers = driver.find_elements(By.CLASS_NAME, \"BgXiYe\")\n",
    "            scrollable_element = driver.find_element(By.CLASS_NAME, \"review-dialog-list\")\n",
    "            driver.execute_script(\"arguments[0].scrollTop = arguments[0].scrollHeight\", scrollable_element)\n",
    "            \n",
    "            # Parse each review element\n",
    "            for container in review_containers:\n",
    "                container_soup = BeautifulSoup(container.get_attribute('outerHTML'), 'html.parser')\n",
    "                \n",
    "                # Extract date\n",
    "                date_span = container_soup.find('span', class_=\"dehysf lTi8oc\")\n",
    "                date = date_span.get_text(strip=True) if date_span else None\n",
    "                \n",
    "                # Extract review text\n",
    "                full_text_span = container_soup.find('span', class_='review-full-text')\n",
    "                if full_text_span and full_text_span.get_text(strip=True):\n",
    "                    text = full_text_span.get_text(strip=True)\n",
    "                else:\n",
    "                    # Look for alternative span if full review text is not found\n",
    "                    alternative_text_span = container_soup.find('span', attrs={'data-expandable-section': True})\n",
    "                    text = alternative_text_span.get_text(strip=True) if alternative_text_span else None\n",
    "\n",
    "                # Append to list if text exists\n",
    "                if text and text.strip():\n",
    "                    if text not in reviews_list:\n",
    "                        reviews_list.append(text)\n",
    "                        date_list.append(date)\n",
    "                        review_count += 1\n",
    "                        if review_count >= review_limit:\n",
    "                            break\n",
    "            if review_count >= review_limit:\n",
    "                break\n",
    "\n",
    "        # Close the driver\n",
    "        driver.quit()\n",
    "\n",
    "        # Convert the lists into a DataFrame\n",
    "        reviews_df = pd.DataFrame({\n",
    "            \"Review\": reviews_list,\n",
    "            \"Date\": date_list\n",
    "        })\n",
    "\n",
    "        return reviews_df, avg_rating\n",
    "    \n",
    "    except Exception as e:\n",
    "        print(\"An error occurred:\", e)\n",
    "        driver.quit()\n",
    "        return pd.DataFrame()  # Return empty DataFrame on error\n"
   ]
  },
  {
   "cell_type": "code",
   "execution_count": 5,
   "id": "a6213e8b",
   "metadata": {
    "scrolled": false
   },
   "outputs": [],
   "source": [
    "Reviews_df,avg = WebScraper( \"dominos pizza\", \"itire\")"
   ]
  },
  {
   "cell_type": "code",
   "execution_count": 6,
   "id": "52ecd91f",
   "metadata": {},
   "outputs": [
    {
     "data": {
      "text/plain": [
       "'4.1'"
      ]
     },
     "execution_count": 6,
     "metadata": {},
     "output_type": "execute_result"
    }
   ],
   "source": [
    "avg"
   ]
  }
 ],
 "metadata": {
  "kernelspec": {
   "display_name": "Python 3 (ipykernel)",
   "language": "python",
   "name": "python3"
  },
  "language_info": {
   "codemirror_mode": {
    "name": "ipython",
    "version": 3
   },
   "file_extension": ".py",
   "mimetype": "text/x-python",
   "name": "python",
   "nbconvert_exporter": "python",
   "pygments_lexer": "ipython3",
   "version": "3.10.9"
  }
 },
 "nbformat": 4,
 "nbformat_minor": 5
}
